{
 "cells": [
  {
   "cell_type": "code",
   "execution_count": 1,
   "id": "d0925d0a-8f6f-4df7-a4fe-d5842d20ca7b",
   "metadata": {},
   "outputs": [],
   "source": [
    "import requests \n",
    "from bs4 import BeautifulSoup"
   ]
  },
  {
   "cell_type": "code",
   "execution_count": 2,
   "id": "5f8aa521-d9d8-4ffb-9c8b-fa09a109999d",
   "metadata": {},
   "outputs": [],
   "source": [
    "HEADER = ({'User-Agent':'Mozilla/5.0 (Windows NT 10.0; Win64; x64) AppleWebKit/537.36 (KHTML, like Gecko) Chrome/74.0.3729.169 Safari/537.36'})"
   ]
  },
  {
   "cell_type": "code",
   "execution_count": 3,
   "id": "ebd0f2cb-c317-4b7e-9ddd-1b63286be6b1",
   "metadata": {},
   "outputs": [],
   "source": [
    "def getdata(site_url):\n",
    "    res = requests.get(site_url,headers = HEADER)\n",
    "    return res.text"
   ]
  },
  {
   "cell_type": "code",
   "execution_count": 4,
   "id": "64a36530-1707-4b7e-9d5e-ad32f60de1d1",
   "metadata": {},
   "outputs": [],
   "source": [
    "def gethtml(site_url):\n",
    "    data = getdata(site_url)\n",
    "    soup = BeautifulSoup(data, 'html.parser')\n",
    "    return (soup)"
   ]
  },
  {
   "cell_type": "code",
   "execution_count": 19,
   "id": "b471362b-aaf9-4938-8491-d0e4e64d6cfd",
   "metadata": {},
   "outputs": [],
   "source": [
    "site_url = \"https://www.flipkart.com/msi-bravo-15-ryzen-5-hexa-core-amd-r5-5600h-8-gb-512-gb-ssd-windows-11-home-4-graphics-amd-radeon-rx-5500m-144-hz-b5dd-410in-gaming-laptop/p/itm12cedc4da03bc?pid=COMGGHMQVWN6JJGC&lid=LSTCOMGGHMQVWN6JJGCTAUNJV&marketplace=FLIPKART&fm=productRecommendation%2Fsimilar&iid=R%3As%3Bp%3ACOMGGJZFJRZY45WX%3Bl%3ALSTCOMGGJZFJRZY45WXD02LFG%3Bpt%3App%3Buid%3A891cea8c-faed-11ed-bad2-dd2790beaddd%3B.COMGGHMQVWN6JJGC&ppt=pp&ppn=pp&ssid=gqp3benpxc0000001683688081160&otracker=pp_reco_Similar%2BProducts_6_37.productCard.PMU_HORIZONTAL_MSI%2BBravo%2B15%2BRyzen%2B5%2BHexa%2BCore%2BAMD%2BR5-5600H%2B-%2B%25288%2BGB%252F512%2BGB%2BSSD%252FWindows%2B11%2BHome%252F4%2BGB%2BGraphics%252FAMD%2BRadeon%2BRX%2B5500M%252F144%2BHz%2529%2BBravo%2B15%2BB5DD-410IN%2BGaming%2BLaptop_COMGGHMQVWN6JJGC_productRecommendation%2Fsimilar_5&otracker1=pp_reco_PINNED_productRecommendation%2Fsimilar_Similar%2BProducts_GRID_productCard_cc_6_NA_view-all&cid=COMGGHMQVWN6JJGC\""
   ]
  },
  {
   "cell_type": "code",
   "execution_count": 20,
   "id": "342c3a1b-5922-4810-b980-87e893a05e26",
   "metadata": {},
   "outputs": [],
   "source": [
    "soup = gethtml(site_url)"
   ]
  },
  {
   "cell_type": "code",
   "execution_count": 21,
   "id": "ab2f13ac-335a-4a01-800a-0c06abef2ca6",
   "metadata": {},
   "outputs": [],
   "source": [
    "def getCustomerName(soup):\n",
    "    data_string = \"\"\n",
    "    customer_list = []\n",
    "    \n",
    "    for item in soup.find_all(\"p\", class_=\"_2V5EHH\"):\n",
    "        data_string = data_string + item.get_text()\n",
    "        customer_list.append(data_string)\n",
    "        data_string = \"\"\n",
    "    return customer_list"
   ]
  },
  {
   "cell_type": "code",
   "execution_count": 22,
   "id": "4842bff5-d8ec-4e68-a5cb-485d1cba12ad",
   "metadata": {},
   "outputs": [
    {
     "name": "stdout",
     "output_type": "stream",
     "text": [
      "['Kailash Sivakumar', 'Purushottam Nawale', 'Flipkart Customer', 'Hapi Mahanta', 'Flipkart Customer', 'Adarsh Krishna', 'Deepesh sagar', 'Apurba Sinha Mahapatra', 'sagar sahu', 'Flipkart Customer = Samir M']\n"
     ]
    }
   ],
   "source": [
    "customer_res = getCustomerName(soup)\n",
    "print(customer_res)"
   ]
  },
  {
   "cell_type": "code",
   "execution_count": 23,
   "id": "8b1a0504-7446-43ac-8491-850ddb6aaf69",
   "metadata": {},
   "outputs": [],
   "source": [
    "def getCustomerReview(soup): \n",
    "    review_string = \"\"\n",
    "    review_list = [] \n",
    "     \n",
    "    for item in soup.find_all(\"div\", class_=\"t-ZTKy\"): \n",
    "        review_string = review_string + item.get_text()\n",
    "        review_list.append(review_string)\n",
    "        review_string = \"\"\n",
    "    return review_list\n"
   ]
  },
  {
   "cell_type": "code",
   "execution_count": 24,
   "id": "c55fea9c-0a28-439c-80e9-73dabbdd0f73",
   "metadata": {},
   "outputs": [],
   "source": [
    "customer_rev = getCustomerReview(soup)\n",
    "# print(customer_rev)"
   ]
  },
  {
   "cell_type": "code",
   "execution_count": 25,
   "id": "9b9e3509-1155-4b1c-9c8f-f5fb19349bf6",
   "metadata": {},
   "outputs": [],
   "source": [
    "def getCustomerRating(soup): \n",
    "    rating_string = \"\"\n",
    "    rating_list = [] \n",
    "     \n",
    "    for item in soup.find_all(\"div\", class_=\"_3LWZlK _1BLPMq\"): \n",
    "        rating_string = rating_string + item.get_text()\n",
    "        rating_list.append(rating_string)\n",
    "        rating_string = \"\"\n",
    "    return rating_list"
   ]
  },
  {
   "cell_type": "code",
   "execution_count": 26,
   "id": "12443abe-51d1-4703-8e41-570138093b95",
   "metadata": {},
   "outputs": [
    {
     "name": "stdout",
     "output_type": "stream",
     "text": [
      "['4', '5', '5', '5', '4', '5', '5', '4', '4', '5']\n"
     ]
    }
   ],
   "source": [
    "customer_rat = getCustomerRating(soup)\n",
    "print(customer_rat)"
   ]
  },
  {
   "cell_type": "code",
   "execution_count": 27,
   "id": "c8134a78-7398-40b3-bcf4-4450cfb367e0",
   "metadata": {},
   "outputs": [],
   "source": [
    "import pandas as pd\n"
   ]
  },
  {
   "cell_type": "code",
   "execution_count": 28,
   "id": "76519d4e-6162-4c8f-8a4e-960329ac2089",
   "metadata": {},
   "outputs": [],
   "source": [
    "customer_data = {'Name':customer_res, 'review':customer_rev, 'Rating':customer_rat}"
   ]
  },
  {
   "cell_type": "code",
   "execution_count": 29,
   "id": "b5f1a555-3073-449b-bf44-d418b8e562ad",
   "metadata": {},
   "outputs": [],
   "source": [
    "# customer_data"
   ]
  },
  {
   "cell_type": "code",
   "execution_count": 30,
   "id": "133e214c-0a0a-4bb0-aee3-93b28bb9280e",
   "metadata": {},
   "outputs": [],
   "source": [
    "df = pd.DataFrame(customer_data)"
   ]
  },
  {
   "cell_type": "code",
   "execution_count": 31,
   "id": "183b798f-66e2-42a7-a485-70095680853f",
   "metadata": {},
   "outputs": [
    {
     "data": {
      "text/html": [
       "<div>\n",
       "<style scoped>\n",
       "    .dataframe tbody tr th:only-of-type {\n",
       "        vertical-align: middle;\n",
       "    }\n",
       "\n",
       "    .dataframe tbody tr th {\n",
       "        vertical-align: top;\n",
       "    }\n",
       "\n",
       "    .dataframe thead th {\n",
       "        text-align: right;\n",
       "    }\n",
       "</style>\n",
       "<table border=\"1\" class=\"dataframe\">\n",
       "  <thead>\n",
       "    <tr style=\"text-align: right;\">\n",
       "      <th></th>\n",
       "      <th>Name</th>\n",
       "      <th>review</th>\n",
       "      <th>Rating</th>\n",
       "    </tr>\n",
       "  </thead>\n",
       "  <tbody>\n",
       "    <tr>\n",
       "      <th>0</th>\n",
       "      <td>Kailash Sivakumar</td>\n",
       "      <td>New thermal design, so there was no Heating is...</td>\n",
       "      <td>4</td>\n",
       "    </tr>\n",
       "    <tr>\n",
       "      <th>1</th>\n",
       "      <td>Purushottam Nawale</td>\n",
       "      <td>Laptops looks are amazing. Battery backup is d...</td>\n",
       "      <td>5</td>\n",
       "    </tr>\n",
       "    <tr>\n",
       "      <th>2</th>\n",
       "      <td>Flipkart Customer</td>\n",
       "      <td>Pros1. Processor Ryzen 5 5600H is beast proces...</td>\n",
       "      <td>5</td>\n",
       "    </tr>\n",
       "    <tr>\n",
       "      <th>3</th>\n",
       "      <td>Hapi Mahanta</td>\n",
       "      <td>Its a beast when it comes to gaming.got it for...</td>\n",
       "      <td>5</td>\n",
       "    </tr>\n",
       "    <tr>\n",
       "      <th>4</th>\n",
       "      <td>Flipkart Customer</td>\n",
       "      <td>One of the best deal at 49990. Today 23 Septem...</td>\n",
       "      <td>4</td>\n",
       "    </tr>\n",
       "    <tr>\n",
       "      <th>5</th>\n",
       "      <td>Adarsh Krishna</td>\n",
       "      <td>✓Beware there is no extra slot for SSD! For ra...</td>\n",
       "      <td>5</td>\n",
       "    </tr>\n",
       "    <tr>\n",
       "      <th>6</th>\n",
       "      <td>Deepesh sagar</td>\n",
       "      <td>Great value for money laptopFor this price ran...</td>\n",
       "      <td>5</td>\n",
       "    </tr>\n",
       "    <tr>\n",
       "      <th>7</th>\n",
       "      <td>Apurba Sinha Mahapatra</td>\n",
       "      <td>Performance beast. Very minimal lid flex becau...</td>\n",
       "      <td>4</td>\n",
       "    </tr>\n",
       "    <tr>\n",
       "      <th>8</th>\n",
       "      <td>sagar sahu</td>\n",
       "      <td>Its really a great laptop display is kind of n...</td>\n",
       "      <td>4</td>\n",
       "    </tr>\n",
       "    <tr>\n",
       "      <th>9</th>\n",
       "      <td>Flipkart Customer = Samir M</td>\n",
       "      <td>Amazing purchase- (ALL GAMES TESTED AT MAX POS...</td>\n",
       "      <td>5</td>\n",
       "    </tr>\n",
       "  </tbody>\n",
       "</table>\n",
       "</div>"
      ],
      "text/plain": [
       "                          Name  \\\n",
       "0            Kailash Sivakumar   \n",
       "1           Purushottam Nawale   \n",
       "2            Flipkart Customer   \n",
       "3                 Hapi Mahanta   \n",
       "4            Flipkart Customer   \n",
       "5               Adarsh Krishna   \n",
       "6                Deepesh sagar   \n",
       "7       Apurba Sinha Mahapatra   \n",
       "8                   sagar sahu   \n",
       "9  Flipkart Customer = Samir M   \n",
       "\n",
       "                                              review Rating  \n",
       "0  New thermal design, so there was no Heating is...      4  \n",
       "1  Laptops looks are amazing. Battery backup is d...      5  \n",
       "2  Pros1. Processor Ryzen 5 5600H is beast proces...      5  \n",
       "3  Its a beast when it comes to gaming.got it for...      5  \n",
       "4  One of the best deal at 49990. Today 23 Septem...      4  \n",
       "5  ✓Beware there is no extra slot for SSD! For ra...      5  \n",
       "6  Great value for money laptopFor this price ran...      5  \n",
       "7  Performance beast. Very minimal lid flex becau...      4  \n",
       "8  Its really a great laptop display is kind of n...      4  \n",
       "9  Amazing purchase- (ALL GAMES TESTED AT MAX POS...      5  "
      ]
     },
     "execution_count": 31,
     "metadata": {},
     "output_type": "execute_result"
    }
   ],
   "source": [
    "df"
   ]
  },
  {
   "cell_type": "code",
   "execution_count": null,
   "id": "47b140e3-0dad-4b31-96a7-18356c20f753",
   "metadata": {},
   "outputs": [],
   "source": []
  }
 ],
 "metadata": {
  "kernelspec": {
   "display_name": "Python 3 (ipykernel)",
   "language": "python",
   "name": "python3"
  },
  "language_info": {
   "codemirror_mode": {
    "name": "ipython",
    "version": 3
   },
   "file_extension": ".py",
   "mimetype": "text/x-python",
   "name": "python",
   "nbconvert_exporter": "python",
   "pygments_lexer": "ipython3",
   "version": "3.11.2"
  }
 },
 "nbformat": 4,
 "nbformat_minor": 5
}
