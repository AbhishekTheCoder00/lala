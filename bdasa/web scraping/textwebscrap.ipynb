{
 "cells": [
  {
   "cell_type": "code",
   "execution_count": 1,
   "id": "5e2e68f8",
   "metadata": {},
   "outputs": [],
   "source": [
    "import requests\n",
    "from bs4 import BeautifulSoup\n"
   ]
  },
  {
   "cell_type": "code",
   "execution_count": 2,
   "id": "0319500c",
   "metadata": {},
   "outputs": [],
   "source": [
    "url = \"https://www.parsehub.com/blog/what-is-web-scraping/\"\n",
    "response = requests.get(url)"
   ]
  },
  {
   "cell_type": "code",
   "execution_count": 3,
   "id": "b24cc8b8",
   "metadata": {},
   "outputs": [],
   "source": [
    "soup = BeautifulSoup(response.text, 'html.parser')"
   ]
  },
  {
   "cell_type": "code",
   "execution_count": 4,
   "id": "c9e1d307",
   "metadata": {},
   "outputs": [
    {
     "name": "stdout",
     "output_type": "stream",
     "text": [
      "|\n",
      "Blog\n",
      "Web scraping is one of the most efficient and useful ways to extract data from a website, especially in 2023!\n",
      "Some websites can contain a very large amount of invaluable data.\n",
      "Stock prices, product details, sports stats, company contacts, you name it.\n",
      "If you wanted to access this information, you’d either have to use whatever format the website uses or copy-paste the information manually into a new document. Here’s where web scraping can help.\n",
      "Web scraping refers to the extraction of data from a website. This information is collected and then exported into a format that is more useful for the user. Be it a spreadsheet or an API.\n",
      "Although web scraping can be done manually, in most cases, automated tools are preferred when scraping web data as they can be less costly and work at a faster rate.\n",
      "But in most cases, web scraping is not a simple task. Websites come in many shapes and forms, as a result, web scrapers vary in functionality and features.\n",
      "Please note that you may encounter captchas when attempting to scrape some websites, so we suggest reading several guides on how to avoid & bypass captchas before scraping a website:\n",
      "If you want to find the best web scraper for your project, make sure to read on.\n",
      "In short, the action of web scraping isn't illegal. However, some rules need to be followed. Web scraping becomes illegal when non publicly available data becomes extracted.\n",
      "This comes as no surprise given the growth of web scraping and many recent legal cases related to web scraping.\n",
      "If you want to learn more about the legality of web scraping, you can continue reading here: Is web scraping legal? \n",
      "So, how do web scrapers work? Automated web scrapers work in a rather simple but also complex way. After all, websites are built for humans to understand, not machines.\n",
      "First, the web scraper will be given one or more URLs to load before scraping. The scraper then loads the entire HTML code for the page in question. More advanced scrapers will render the entire website, including CSS and Javascript elements.\n",
      "Then the scraper will either extract all the data on the page or specific data selected by the user before the project is run.\n",
      "Ideally, the user will go through the process of selecting the specific data they want from the page. For example, you might want to scrape an Amazon product page for prices and models but are not necessarily interested in product reviews.\n",
      "Lastly, the web scraper will output all the data that has been collected into a format that is more useful to the user.\n",
      "Most web scrapers will output data to a CSV or Excel spreadsheet, while more advanced scrapers will support other formats such as JSON which can be used for an API.\n",
      "Web scrapers can drastically differ from each other on a case-by-case basis.\n",
      "For simplicity’s sake, we will break down some of these aspects into 4 categories. Of course, there are more intricacies at play when comparing web scrapers.\n",
      "Just like how anyone can build a website, anyone can build their own web scraper.\n",
      "However, the tools available to build your own web scraper still require some advanced programming knowledge. The scope of this knowledge also increases with the number of features you’d like your scraper to have.\n",
      "On the other hand, there are numerous pre-built web scrapers that you can download and run right away. Some of these will also have advanced options added such as scrape scheduling, JSON and Google Sheets exports and more.\n",
      "In general terms, web scrapers come in two forms: browser extensions or computer software.\n",
      "Browser extensions are app-like programs that can be added to your browsers such as Google Chrome or Firefox. Some popular browser extensions include themes, ad blockers, messaging extensions and more.\n",
      "Web scraping extensions have the benefit of being simpler to run and being integrated right into your browser.\n",
      "However, these extensions are usually limited by living in your browser. Meaning that any advanced features that would have to occur outside of the browser would be impossible to implement. For example, IP Rotations would not be possible in this kind of extension.\n",
      "On the other hand, you will have actual web scraping software that can be downloaded and installed on your computer. While these are a bit less convenient than browser extensions, they make up for it in advanced features that are not limited by what your browser can and cannot do.\n",
      "The user interface between web scrapers can vary quite extremely.\n",
      "For example, some web scraping tools will run with a minimal UI and a command line. Some users might find this unintuitive or confusing.\n",
      "On the other hand, some web scrapers will have a full-fledged UI where the website is fully rendered for the user to just click on the data they want to scrape. These web scrapers are usually easier to work with for most people with limited technical knowledge.\n",
      "Some scrapers will go as far as integrating help tips and suggestions through their UI to make sure the user understands each feature that the software offers.\n",
      "From where does your web scraper actually do its job?\n",
      "Local web scrapers will run on your computer using its resources and internet connection. This means that if your web scraper has a high usage of CPU or RAM, your computer might become quite slow while your scrape runs. With long scraping tasks, this could put your computer out of commission for hours.\n",
      "Additionally, if your scraper is set to run on a large number of URLs (such as product pages), it can have an impact on your ISP’s data caps.\n",
      "Cloud-based web scrapers run on an off-site server which is usually provided by the company that developed the scraper itself. This means that your computer’s resources are freed up while your scraper runs and gathers data. You can then work on other tasks and be notified later once your scrape is ready to be exported.\n",
      "This also allows for very easy integration of advanced features such as IP rotation, which can prevent your scraper from getting blocked from major websites due to their scraping activity.\n",
      "By this point, you can probably think of several different ways in which web scrapers can be used. We’ve put some of the most common ones below (plus a few unique ones).\n",
      "Many real estate agents use web scraping to populate their database of available properties for sale or for rent.\n",
      "For example, a real estate agency will scrape MLS listings to build an API that directly populates this information onto their website. This way, they get to act as the agent for the property when someone finds this listing on their site.\n",
      "Most listings that you will find on a Real Estate website are automatically generated by an API.\n",
      "Many companies use web scraping to build massive databases and draw industry-specific insights from these. These companies can then sell access to these insights to companies in said industries.\n",
      "For example, a company might scrape and analyze tons of data about oil prices, exports and imports in order to sell their insights to oil companies across the world.\n",
      "Some several websites and applications can help you to easily compare pricing between several retailers for the same product.\n",
      "One way that these websites work is by using web scrapers to scrape product data and pricing from each retailer daily. This way, they can provide their users with the comparison data they need.\n",
      "One incredibly popular use of web scraping is lead generation. This use is so popular in fact, that we have written an entire guide on using web scraping for lead generation.\n",
      "In short, web scraping is used by many companies to collect contact information about potential customers or clients. This is incredibly common in the business-to-business space, where potential customers will post their business information publicly online.\n",
      "Check out our guides of how you can use web scraping for your business:\n",
      "The list of things you can do with web scraping is almost endless. After all, it is all about what you can do with the data you’ve collected and how valuable you can make it.\n",
      "Read our Beginner's guide to web scraping to start learning how to scrape any website!\n",
      "So, now that you know the basics of web scraping, you’re probably wondering what is the best web scraper for you?\n",
      "The obvious answer is that it depends.\n",
      "The more you know about your scraping needs, the better of an idea you will have about what’s the best web scraper for you. However, that did not stop us from writing our guide on what makes the Best Web Scraper.\n",
      "Of course, we would always recommend ParseHub. Not only can it be downloaded for FREE but it comes with an incredibly powerful suite of features which we reviewed in this article. Including a friendly UI, cloud-based scrapping, awesome customer support and more.\n",
      "Learn more about ParseHub and download it for free.\n",
      "Want to become an expert on Web Scraping for Free? Take our free web scraping courses and become Certified in Web Scraping today!\n",
      "If you are interested in getting the data you want right away without having to learn, we offer web scraping services. Our team of web scraping experts will extract any data from the most complex websites. Book a free call today!\n",
      "Martin is the Digital Marketing Specialist at ParseHub. A lover of all things related to tech, culture, and the internet. \n",
      "Shopping for groceries in Canada is becoming more and more costly, with worrisome inflation patterns. The outcry from shoppers can be heard across the country as everyday items become increasingly expensive; Google Trends\n",
      "PDF files are incredibly common on the internet.There might be scenarios where you might have to download a long list of PDF files from a website.If the number of files is\n"
     ]
    }
   ],
   "source": [
    "paragraphs = soup.find_all('p')\n",
    "for p in paragraphs:\n",
    "    print(p.get_text())"
   ]
  },
  {
   "cell_type": "code",
   "execution_count": null,
   "id": "43379a95",
   "metadata": {},
   "outputs": [],
   "source": []
  }
 ],
 "metadata": {
  "kernelspec": {
   "display_name": "Python 3 (ipykernel)",
   "language": "python",
   "name": "python3"
  },
  "language_info": {
   "codemirror_mode": {
    "name": "ipython",
    "version": 3
   },
   "file_extension": ".py",
   "mimetype": "text/x-python",
   "name": "python",
   "nbconvert_exporter": "python",
   "pygments_lexer": "ipython3",
   "version": "3.11.2"
  }
 },
 "nbformat": 4,
 "nbformat_minor": 5
}
